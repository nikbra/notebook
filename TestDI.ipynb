{
 "cells": [
  {
   "cell_type": "markdown",
   "metadata": {},
   "source": [
    "### Define classes and interfaces"
   ]
  },
  {
   "cell_type": "code",
   "execution_count": null,
   "metadata": {
    "dotnet_interactive": {
     "language": "csharp"
    }
   },
   "outputs": [],
   "source": [
    "public interface ITheService\n",
    "{\n",
    "\tbool DoSomething();\n",
    "}\n",
    "\n",
    "public class TheService : ITheService {\n",
    "\tpublic bool DoSomething()\n",
    "\t{\n",
    "\t\tConsole.WriteLine(\"This is the real : TheService\");\n",
    "\t\treturn true;\n",
    "\t}\n",
    "}\n",
    "\n",
    "public class Decorator1 : ITheService {\n",
    "\tprivate ITheService _theService;\n",
    "\tpublic Decorator1(ITheService theService)\n",
    "\t{\n",
    "\t\t_theService = theService;\n",
    "\t}\n",
    "\tpublic bool DoSomething()\n",
    "\t{\n",
    "\t\tConsole.WriteLine(\"DECORATOR 1 Before call to : TheService\");\n",
    "\t\tvar result = _theService.DoSomething();\n",
    "\t\tConsole.WriteLine(\"DECORATOR 1 After call to : TheService\");\n",
    "\n",
    "\t\treturn result;\n",
    "\t}\n",
    "}\n",
    "\n",
    "public class Decorator2 : ITheService {\n",
    "\tprivate ITheService _theService;\n",
    "\tpublic Decorator2(ITheService theService)\n",
    "\t{\n",
    "\t\t_theService = theService;\n",
    "\t}\n",
    "\tpublic bool DoSomething()\n",
    "\t{\n",
    "\t\tConsole.WriteLine(\"DECORATOR 2 Before call to : TheService\");\n",
    "\t\tvar result = _theService.DoSomething();\n",
    "\t\tConsole.WriteLine(\"DECORATOR 2 After call to : TheService\");\n",
    "\n",
    "\t\treturn result;\n",
    "\t}\n",
    "}"
   ]
  },
  {
   "cell_type": "markdown",
   "metadata": {},
   "source": [
    "#### Setup DI and decorators\n",
    "\n",
    "Use dependency injection with Scrutor for decorators"
   ]
  },
  {
   "cell_type": "code",
   "execution_count": null,
   "metadata": {
    "dotnet_interactive": {
     "language": "csharp"
    }
   },
   "outputs": [
    {
     "data": {
      "text/html": [
       "<div><div></div><div></div><div><strong>Installed Packages</strong><ul><li><span>Microsoft.AspNetCore.Mvc.Core, 2.2.5</span></li><li><span>Microsoft.Extensions.DependencyInjection, 5.0.1</span></li><li><span>Scrutor.AspNetCore, 3.3.0</span></li></ul></div></div>"
      ]
     },
     "metadata": {},
     "output_type": "display_data"
    },
    {
     "name": "stdout",
     "output_type": "stream",
     "text": [
      "DECORATOR 2 Before call to : TheService\r\n",
      "DECORATOR 1 Before call to : TheService\r\n",
      "This is the real : TheService\r\n",
      "DECORATOR 1 After call to : TheService\r\n",
      "DECORATOR 2 After call to : TheService\r\n"
     ]
    },
    {
     "data": {
      "text/html": [
       "<div class=\"dni-plaintext\">True</div>"
      ]
     },
     "metadata": {},
     "output_type": "display_data"
    }
   ],
   "source": [
    "#r \"nuget: Microsoft.Extensions.DependencyInjection, 5.0.1\"\n",
    "#r \"nuget: Scrutor.AspNetCore, 3.3.0\"\n",
    "#r \"nuget: Microsoft.AspNetCore.Mvc.Core, 2.2.5\"\n",
    "\n",
    "using Microsoft.Extensions.DependencyInjection;\n",
    "using Scrutor.AspNetCore;\n",
    "\n",
    "public class DISetup\n",
    "{\n",
    "\tpublic static ServiceProvider SetupDI()\n",
    "\t{\n",
    "\t\treturn new ServiceCollection()\n",
    "\t\t.AddTransient<ITheService, TheService>()\n",
    "\t\t.Decorate<ITheService, Decorator1>()\n",
    "\t\t.Decorate<ITheService, Decorator2>()\n",
    "\t\t.BuildServiceProvider();\n",
    "\t}\n",
    "}\n",
    "\n",
    "var serviceProvider = DISetup.SetupDI();\n",
    "var theService = serviceProvider.GetRequiredService<ITheService>();\n",
    "var result = theService.DoSomething();\n",
    "result"
   ]
  }
 ],
 "metadata": {
  "kernelspec": {
   "display_name": ".NET (C#)",
   "language": "C#",
   "name": ".net-csharp"
  },
  "language_info": {
   "name": "C#"
  }
 },
 "nbformat": 4,
 "nbformat_minor": 2
}
