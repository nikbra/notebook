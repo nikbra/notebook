{
 "cells": [
  {
   "cell_type": "markdown",
   "metadata": {},
   "source": [
    "### Shared variables\n",
    "\n",
    "First a csharp section with some variables"
   ]
  },
  {
   "cell_type": "code",
   "execution_count": null,
   "metadata": {
    "dotnet_interactive": {
     "language": "csharp"
    }
   },
   "outputs": [],
   "source": [
    "#!csharp\n",
    "using System.Text.Json;\n",
    "\n",
    "public class Person\n",
    "{\n",
    "    public int Id {get;set;}\n",
    "    public string LastName {get;set;}\n",
    "    public string FirstName {get;set;}\n",
    "}\n",
    "\n",
    "var personList = new List<Person>\n",
    "{\n",
    "    new Person {Id = 1, FirstName = \"Niklas\", LastName = \"Persson\"},\n",
    "    new Person {Id = 2, FirstName = \"Klas\", LastName = \"Orvarsson\"},\n",
    "    new Person {Id = 3, FirstName = \"Goran\", LastName = \"Pettersson\"}\n",
    "};\n",
    "\n",
    "var nameList = new List<string> {\"Niklas Karlsson\", \"Klas Orvarsoon\", \"Goran Persson\"};\n",
    "\n",
    "var jsonPersons = JsonSerializer.Serialize(personList);\n"
   ]
  },
  {
   "cell_type": "markdown",
   "metadata": {},
   "source": [
    "### Sample Html"
   ]
  },
  {
   "cell_type": "code",
   "execution_count": null,
   "metadata": {
    "dotnet_interactive": {
     "language": "html"
    }
   },
   "outputs": [
    {
     "data": {
      "text/html": [
       "<html>\n",
       "<body>\n",
       "    <div id=\"target\">This is the place holder</div>\n",
       "</body>\n",
       "</html>"
      ]
     },
     "metadata": {},
     "output_type": "display_data"
    }
   ],
   "source": [
    "#!html\n",
    "\n",
    "<html>\n",
    "<body>\n",
    "    <div id=\"target\">This is the place holder</div>\n",
    "</body>\n",
    "</html>"
   ]
  },
  {
   "cell_type": "markdown",
   "metadata": {},
   "source": [
    "### Javascript\n",
    "Use shared list of strings from c#"
   ]
  },
  {
   "cell_type": "code",
   "execution_count": null,
   "metadata": {
    "dotnet_interactive": {
     "language": "javascript"
    }
   },
   "outputs": [],
   "source": [
    "#!javascript\n",
    "#!share --from csharp nameList\n",
    "\n",
    "let text = \"\";\n",
    "let d = document.getElementById('target');\n",
    "d.style.color = 'green';\n",
    "nameList.forEach(myFunction);\n",
    "d.innerHTML = text;\n",
    "\n",
    "function myFunction(item, index) {\n",
    "  text += index + \": \" + item + \"<br>\"; \n",
    "}"
   ]
  },
  {
   "cell_type": "markdown",
   "metadata": {},
   "source": [
    "### Another example\n",
    "Deserialize json from c# class"
   ]
  },
  {
   "cell_type": "code",
   "execution_count": null,
   "metadata": {
    "dotnet_interactive": {
     "language": "html"
    }
   },
   "outputs": [
    {
     "data": {
      "text/html": [
       "<html>\r\n",
       "<body>\r\n",
       "    <div id=\"json\">Will be json</div>\r\n",
       "    <br/>\r\n",
       "    <div id=\"persons\">This is the place holder</div>\r\n",
       "</body>\r\n",
       "</html>"
      ]
     },
     "metadata": {},
     "output_type": "display_data"
    }
   ],
   "source": [
    "#!html\n",
    "\n",
    "<html>\n",
    "<body>\n",
    "    <div id=\"json\">Will be json</div>\n",
    "    <br/>\n",
    "    <div id=\"persons\">This is the place holder</div>\n",
    "</body>\n",
    "</html>"
   ]
  },
  {
   "cell_type": "code",
   "execution_count": null,
   "metadata": {
    "dotnet_interactive": {
     "language": "javascript"
    }
   },
   "outputs": [],
   "source": [
    "#!javascript\n",
    "#!share --from csharp jsonPersons\n",
    "\n",
    "let text = \"\";\n",
    "let d = document.getElementById('persons');\n",
    "d.style.color = 'green';\n",
    "\n",
    "let j = document.getElementById('json');\n",
    "j.innerText = jsonPersons;\n",
    "\n",
    "var objList = JSON.parse(jsonPersons);\n",
    "\n",
    "objList.forEach(myFunction);\n",
    "d.innerHTML = text;\n",
    "\n",
    "function myFunction(item, index) {\n",
    "  text += \"Id : \" + item.Id + \",\" + item.FirstName + \" \" + item.LastName + \"<br>\"; \n",
    "}"
   ]
  }
 ],
 "metadata": {
  "kernelspec": {
   "display_name": ".NET (C#)",
   "language": "C#",
   "name": ".net-csharp"
  },
  "language_info": {
   "name": "C#"
  }
 },
 "nbformat": 4,
 "nbformat_minor": 2
}
